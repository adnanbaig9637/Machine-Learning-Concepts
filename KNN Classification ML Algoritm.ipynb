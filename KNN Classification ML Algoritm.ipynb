{
 "cells": [
  {
   "cell_type": "markdown",
   "id": "e81158df",
   "metadata": {},
   "source": [
    "**Importing Libraries**"
   ]
  },
  {
   "cell_type": "code",
   "execution_count": 1,
   "id": "7bfff025",
   "metadata": {},
   "outputs": [],
   "source": [
    "import numpy as np\n",
    "import pandas as pd\n",
    "import seaborn as sns\n",
    "import matplotlib.pyplot as plt\n",
    "from sklearn.model_selection import train_test_split\n",
    "from sklearn.datasets import load_iris\n",
    "from sklearn.neighbors import KNeighborsClassifier\n",
    "from sklearn.metrics import confusion_matrix , accuracy_score , precision_score , recall_score , classification_report\n",
    "from sklearn.model_selection import KFold , cross_val_score\n",
    "\n",
    "import warnings\n",
    "warnings.filterwarnings(\"ignore\")"
   ]
  },
  {
   "cell_type": "markdown",
   "id": "78a371ac",
   "metadata": {},
   "source": [
    "**Loading Iris Dataset from sklearn**"
   ]
  },
  {
   "cell_type": "code",
   "execution_count": 2,
   "id": "aa14e57b",
   "metadata": {},
   "outputs": [],
   "source": [
    "X,y = load_iris(return_X_y=True , as_frame=True)"
   ]
  },
  {
   "cell_type": "code",
   "execution_count": 3,
   "id": "ecb8d5bd",
   "metadata": {},
   "outputs": [
    {
     "data": {
      "text/html": [
       "<div>\n",
       "<style scoped>\n",
       "    .dataframe tbody tr th:only-of-type {\n",
       "        vertical-align: middle;\n",
       "    }\n",
       "\n",
       "    .dataframe tbody tr th {\n",
       "        vertical-align: top;\n",
       "    }\n",
       "\n",
       "    .dataframe thead th {\n",
       "        text-align: right;\n",
       "    }\n",
       "</style>\n",
       "<table border=\"1\" class=\"dataframe\">\n",
       "  <thead>\n",
       "    <tr style=\"text-align: right;\">\n",
       "      <th></th>\n",
       "      <th>sepal length (cm)</th>\n",
       "      <th>sepal width (cm)</th>\n",
       "      <th>petal length (cm)</th>\n",
       "      <th>petal width (cm)</th>\n",
       "    </tr>\n",
       "  </thead>\n",
       "  <tbody>\n",
       "    <tr>\n",
       "      <th>0</th>\n",
       "      <td>5.1</td>\n",
       "      <td>3.5</td>\n",
       "      <td>1.4</td>\n",
       "      <td>0.2</td>\n",
       "    </tr>\n",
       "    <tr>\n",
       "      <th>1</th>\n",
       "      <td>4.9</td>\n",
       "      <td>3.0</td>\n",
       "      <td>1.4</td>\n",
       "      <td>0.2</td>\n",
       "    </tr>\n",
       "    <tr>\n",
       "      <th>2</th>\n",
       "      <td>4.7</td>\n",
       "      <td>3.2</td>\n",
       "      <td>1.3</td>\n",
       "      <td>0.2</td>\n",
       "    </tr>\n",
       "    <tr>\n",
       "      <th>3</th>\n",
       "      <td>4.6</td>\n",
       "      <td>3.1</td>\n",
       "      <td>1.5</td>\n",
       "      <td>0.2</td>\n",
       "    </tr>\n",
       "    <tr>\n",
       "      <th>4</th>\n",
       "      <td>5.0</td>\n",
       "      <td>3.6</td>\n",
       "      <td>1.4</td>\n",
       "      <td>0.2</td>\n",
       "    </tr>\n",
       "    <tr>\n",
       "      <th>...</th>\n",
       "      <td>...</td>\n",
       "      <td>...</td>\n",
       "      <td>...</td>\n",
       "      <td>...</td>\n",
       "    </tr>\n",
       "    <tr>\n",
       "      <th>145</th>\n",
       "      <td>6.7</td>\n",
       "      <td>3.0</td>\n",
       "      <td>5.2</td>\n",
       "      <td>2.3</td>\n",
       "    </tr>\n",
       "    <tr>\n",
       "      <th>146</th>\n",
       "      <td>6.3</td>\n",
       "      <td>2.5</td>\n",
       "      <td>5.0</td>\n",
       "      <td>1.9</td>\n",
       "    </tr>\n",
       "    <tr>\n",
       "      <th>147</th>\n",
       "      <td>6.5</td>\n",
       "      <td>3.0</td>\n",
       "      <td>5.2</td>\n",
       "      <td>2.0</td>\n",
       "    </tr>\n",
       "    <tr>\n",
       "      <th>148</th>\n",
       "      <td>6.2</td>\n",
       "      <td>3.4</td>\n",
       "      <td>5.4</td>\n",
       "      <td>2.3</td>\n",
       "    </tr>\n",
       "    <tr>\n",
       "      <th>149</th>\n",
       "      <td>5.9</td>\n",
       "      <td>3.0</td>\n",
       "      <td>5.1</td>\n",
       "      <td>1.8</td>\n",
       "    </tr>\n",
       "  </tbody>\n",
       "</table>\n",
       "<p>150 rows × 4 columns</p>\n",
       "</div>"
      ],
      "text/plain": [
       "     sepal length (cm)  sepal width (cm)  petal length (cm)  petal width (cm)\n",
       "0                  5.1               3.5                1.4               0.2\n",
       "1                  4.9               3.0                1.4               0.2\n",
       "2                  4.7               3.2                1.3               0.2\n",
       "3                  4.6               3.1                1.5               0.2\n",
       "4                  5.0               3.6                1.4               0.2\n",
       "..                 ...               ...                ...               ...\n",
       "145                6.7               3.0                5.2               2.3\n",
       "146                6.3               2.5                5.0               1.9\n",
       "147                6.5               3.0                5.2               2.0\n",
       "148                6.2               3.4                5.4               2.3\n",
       "149                5.9               3.0                5.1               1.8\n",
       "\n",
       "[150 rows x 4 columns]"
      ]
     },
     "execution_count": 3,
     "metadata": {},
     "output_type": "execute_result"
    }
   ],
   "source": [
    "X"
   ]
  },
  {
   "cell_type": "code",
   "execution_count": 4,
   "id": "5f765008",
   "metadata": {},
   "outputs": [
    {
     "data": {
      "text/plain": [
       "0      0\n",
       "1      0\n",
       "2      0\n",
       "3      0\n",
       "4      0\n",
       "      ..\n",
       "145    2\n",
       "146    2\n",
       "147    2\n",
       "148    2\n",
       "149    2\n",
       "Name: target, Length: 150, dtype: int32"
      ]
     },
     "execution_count": 4,
     "metadata": {},
     "output_type": "execute_result"
    }
   ],
   "source": [
    "y"
   ]
  },
  {
   "cell_type": "markdown",
   "id": "f11ed389",
   "metadata": {},
   "source": [
    "**Splitting Data into X_train, X_test, y_train , y_test for ML model**"
   ]
  },
  {
   "cell_type": "code",
   "execution_count": 5,
   "id": "4e2312c6",
   "metadata": {},
   "outputs": [
    {
     "name": "stdout",
     "output_type": "stream",
     "text": [
      "(120, 4)\n",
      "(30, 4)\n"
     ]
    }
   ],
   "source": [
    "X_train , X_test , y_train , y_test = train_test_split(X,y , test_size=0.2 , random_state=22)\n",
    "print(X_train.shape)\n",
    "print(X_test.shape)"
   ]
  },
  {
   "cell_type": "markdown",
   "id": "b8c140ff",
   "metadata": {},
   "source": [
    "**Building Machine Learning Model**"
   ]
  },
  {
   "cell_type": "code",
   "execution_count": 6,
   "id": "e7eb9151",
   "metadata": {},
   "outputs": [
    {
     "data": {
      "text/plain": [
       "array([0, 2, 1, 2, 1, 1, 1, 1, 1, 0, 2, 1, 2, 2, 0, 2, 1, 1, 1, 1, 0, 2,\n",
       "       0, 1, 2, 0, 2, 2, 2, 2])"
      ]
     },
     "execution_count": 6,
     "metadata": {},
     "output_type": "execute_result"
    }
   ],
   "source": [
    "knn = KNeighborsClassifier(n_neighbors=5, p=1,metric='minkowski',)\n",
    "knn.fit(X_train , y_train)\n",
    "    \n",
    "y_predict = knn.predict(X_test)\n",
    "y_predict"
   ]
  },
  {
   "cell_type": "markdown",
   "id": "cf7e6e4f",
   "metadata": {},
   "source": [
    "**Output Predictions based on inputs**"
   ]
  },
  {
   "cell_type": "code",
   "execution_count": 27,
   "id": "501869cb",
   "metadata": {},
   "outputs": [
    {
     "data": {
      "text/plain": [
       "array([1])"
      ]
     },
     "execution_count": 27,
     "metadata": {},
     "output_type": "execute_result"
    }
   ],
   "source": [
    "knn.predict([[2.9 , 1.2 , 2.3 , 4.8]])"
   ]
  },
  {
   "cell_type": "markdown",
   "id": "3416ea82",
   "metadata": {},
   "source": [
    "**Machine Learning Model Evaluation**"
   ]
  },
  {
   "cell_type": "markdown",
   "id": "a88357ed",
   "metadata": {},
   "source": [
    "**1. Confusion Matrix**"
   ]
  },
  {
   "cell_type": "code",
   "execution_count": 7,
   "id": "b9a53d07",
   "metadata": {},
   "outputs": [
    {
     "data": {
      "text/plain": [
       "array([[ 6,  0,  0],\n",
       "       [ 0, 10,  0],\n",
       "       [ 0,  2, 12]], dtype=int64)"
      ]
     },
     "execution_count": 7,
     "metadata": {},
     "output_type": "execute_result"
    }
   ],
   "source": [
    "confusion_matrix(y_test , y_predict)"
   ]
  },
  {
   "cell_type": "markdown",
   "id": "48dd4073",
   "metadata": {},
   "source": [
    "**2. Accuracy Score**"
   ]
  },
  {
   "cell_type": "code",
   "execution_count": 8,
   "id": "a237b4f4",
   "metadata": {},
   "outputs": [
    {
     "data": {
      "text/plain": [
       "0.9333333333333333"
      ]
     },
     "execution_count": 8,
     "metadata": {},
     "output_type": "execute_result"
    }
   ],
   "source": [
    "accuracy_score(y_test , y_predict)"
   ]
  },
  {
   "cell_type": "markdown",
   "id": "aa3d091e",
   "metadata": {},
   "source": [
    "**3. Precision Score**"
   ]
  },
  {
   "cell_type": "code",
   "execution_count": 9,
   "id": "8033f52a",
   "metadata": {},
   "outputs": [
    {
     "data": {
      "text/plain": [
       "0.9444444444444445"
      ]
     },
     "execution_count": 9,
     "metadata": {},
     "output_type": "execute_result"
    }
   ],
   "source": [
    "precision_score(y_test , y_predict ,  average='weighted')"
   ]
  },
  {
   "cell_type": "markdown",
   "id": "ed2933c0",
   "metadata": {},
   "source": [
    "**3. Recall Score**"
   ]
  },
  {
   "cell_type": "code",
   "execution_count": 10,
   "id": "4ce1a7fb",
   "metadata": {},
   "outputs": [
    {
     "data": {
      "text/plain": [
       "0.9333333333333333"
      ]
     },
     "execution_count": 10,
     "metadata": {},
     "output_type": "execute_result"
    }
   ],
   "source": [
    "recall_score(y_test , y_predict , average='weighted')"
   ]
  },
  {
   "cell_type": "code",
   "execution_count": null,
   "id": "53a5e027",
   "metadata": {},
   "outputs": [],
   "source": []
  },
  {
   "cell_type": "markdown",
   "id": "84df2f08",
   "metadata": {},
   "source": [
    "**Comparing Train_Accuracy and Test_Accuracy for Selection of K-Value**"
   ]
  },
  {
   "cell_type": "code",
   "execution_count": 11,
   "id": "7969de4b",
   "metadata": {},
   "outputs": [
    {
     "data": {
      "text/html": [
       "<div>\n",
       "<style scoped>\n",
       "    .dataframe tbody tr th:only-of-type {\n",
       "        vertical-align: middle;\n",
       "    }\n",
       "\n",
       "    .dataframe tbody tr th {\n",
       "        vertical-align: top;\n",
       "    }\n",
       "\n",
       "    .dataframe thead th {\n",
       "        text-align: right;\n",
       "    }\n",
       "</style>\n",
       "<table border=\"1\" class=\"dataframe\">\n",
       "  <thead>\n",
       "    <tr style=\"text-align: right;\">\n",
       "      <th></th>\n",
       "      <th>K</th>\n",
       "      <th>Train Accuracy</th>\n",
       "      <th>Test Accuracy</th>\n",
       "    </tr>\n",
       "  </thead>\n",
       "  <tbody>\n",
       "    <tr>\n",
       "      <th>0</th>\n",
       "      <td>1</td>\n",
       "      <td>1.000000</td>\n",
       "      <td>0.966667</td>\n",
       "    </tr>\n",
       "    <tr>\n",
       "      <th>1</th>\n",
       "      <td>2</td>\n",
       "      <td>0.966667</td>\n",
       "      <td>0.900000</td>\n",
       "    </tr>\n",
       "    <tr>\n",
       "      <th>2</th>\n",
       "      <td>3</td>\n",
       "      <td>0.958333</td>\n",
       "      <td>0.966667</td>\n",
       "    </tr>\n",
       "    <tr>\n",
       "      <th>3</th>\n",
       "      <td>4</td>\n",
       "      <td>0.975000</td>\n",
       "      <td>0.933333</td>\n",
       "    </tr>\n",
       "    <tr>\n",
       "      <th>4</th>\n",
       "      <td>5</td>\n",
       "      <td>0.975000</td>\n",
       "      <td>0.933333</td>\n",
       "    </tr>\n",
       "    <tr>\n",
       "      <th>5</th>\n",
       "      <td>6</td>\n",
       "      <td>0.966667</td>\n",
       "      <td>0.933333</td>\n",
       "    </tr>\n",
       "    <tr>\n",
       "      <th>6</th>\n",
       "      <td>7</td>\n",
       "      <td>0.966667</td>\n",
       "      <td>0.933333</td>\n",
       "    </tr>\n",
       "    <tr>\n",
       "      <th>7</th>\n",
       "      <td>8</td>\n",
       "      <td>0.966667</td>\n",
       "      <td>0.900000</td>\n",
       "    </tr>\n",
       "    <tr>\n",
       "      <th>8</th>\n",
       "      <td>9</td>\n",
       "      <td>0.975000</td>\n",
       "      <td>0.933333</td>\n",
       "    </tr>\n",
       "    <tr>\n",
       "      <th>9</th>\n",
       "      <td>10</td>\n",
       "      <td>0.966667</td>\n",
       "      <td>0.900000</td>\n",
       "    </tr>\n",
       "    <tr>\n",
       "      <th>10</th>\n",
       "      <td>11</td>\n",
       "      <td>0.975000</td>\n",
       "      <td>0.933333</td>\n",
       "    </tr>\n",
       "    <tr>\n",
       "      <th>11</th>\n",
       "      <td>12</td>\n",
       "      <td>0.958333</td>\n",
       "      <td>0.900000</td>\n",
       "    </tr>\n",
       "    <tr>\n",
       "      <th>12</th>\n",
       "      <td>13</td>\n",
       "      <td>0.975000</td>\n",
       "      <td>0.933333</td>\n",
       "    </tr>\n",
       "    <tr>\n",
       "      <th>13</th>\n",
       "      <td>14</td>\n",
       "      <td>0.975000</td>\n",
       "      <td>0.900000</td>\n",
       "    </tr>\n",
       "    <tr>\n",
       "      <th>14</th>\n",
       "      <td>15</td>\n",
       "      <td>0.975000</td>\n",
       "      <td>0.933333</td>\n",
       "    </tr>\n",
       "    <tr>\n",
       "      <th>15</th>\n",
       "      <td>16</td>\n",
       "      <td>0.966667</td>\n",
       "      <td>0.900000</td>\n",
       "    </tr>\n",
       "    <tr>\n",
       "      <th>16</th>\n",
       "      <td>17</td>\n",
       "      <td>0.966667</td>\n",
       "      <td>0.900000</td>\n",
       "    </tr>\n",
       "    <tr>\n",
       "      <th>17</th>\n",
       "      <td>18</td>\n",
       "      <td>0.966667</td>\n",
       "      <td>0.900000</td>\n",
       "    </tr>\n",
       "    <tr>\n",
       "      <th>18</th>\n",
       "      <td>19</td>\n",
       "      <td>0.966667</td>\n",
       "      <td>0.900000</td>\n",
       "    </tr>\n",
       "    <tr>\n",
       "      <th>19</th>\n",
       "      <td>20</td>\n",
       "      <td>0.958333</td>\n",
       "      <td>0.900000</td>\n",
       "    </tr>\n",
       "  </tbody>\n",
       "</table>\n",
       "</div>"
      ],
      "text/plain": [
       "     K  Train Accuracy  Test Accuracy\n",
       "0    1        1.000000       0.966667\n",
       "1    2        0.966667       0.900000\n",
       "2    3        0.958333       0.966667\n",
       "3    4        0.975000       0.933333\n",
       "4    5        0.975000       0.933333\n",
       "5    6        0.966667       0.933333\n",
       "6    7        0.966667       0.933333\n",
       "7    8        0.966667       0.900000\n",
       "8    9        0.975000       0.933333\n",
       "9   10        0.966667       0.900000\n",
       "10  11        0.975000       0.933333\n",
       "11  12        0.958333       0.900000\n",
       "12  13        0.975000       0.933333\n",
       "13  14        0.975000       0.900000\n",
       "14  15        0.975000       0.933333\n",
       "15  16        0.966667       0.900000\n",
       "16  17        0.966667       0.900000\n",
       "17  18        0.966667       0.900000\n",
       "18  19        0.966667       0.900000\n",
       "19  20        0.958333       0.900000"
      ]
     },
     "execution_count": 11,
     "metadata": {},
     "output_type": "execute_result"
    }
   ],
   "source": [
    "k_value = []\n",
    "test_accuracy = []\n",
    "train_accuracy = []\n",
    "\n",
    "for i in range(1,21):\n",
    "    knn = KNeighborsClassifier(n_neighbors=i, p=1,metric='minkowski',)\n",
    "    knn.fit(X_train , y_train)\n",
    "    \n",
    "    y_predict = knn.predict(X_test)\n",
    "    y_predict_train = knn.predict(X_train)\n",
    "    \n",
    "    k_value.append(i)\n",
    "    \n",
    "    accuracy_test = accuracy_score(y_test , y_predict)\n",
    "    accuracy_train = accuracy_score(y_train , y_predict_train)\n",
    "    \n",
    "    test_accuracy.append(accuracy_test)\n",
    "    train_accuracy.append(accuracy_train)\n",
    "\n",
    "df_accuracy = pd.DataFrame({\"K\" : k_value ,\"Train Accuracy\" : train_accuracy, \"Test Accuracy\" : test_accuracy })\n",
    "df_accuracy"
   ]
  },
  {
   "cell_type": "markdown",
   "id": "09d38c12",
   "metadata": {},
   "source": [
    "**Comparing Train and Test Accuracy using plots**"
   ]
  },
  {
   "cell_type": "code",
   "execution_count": 12,
   "id": "9519a19f",
   "metadata": {},
   "outputs": [
    {
     "data": {
      "image/png": "[encoded data removed]",
      "text/plain": [
       "<Figure size 640x480 with 1 Axes>"
      ]
     },
     "metadata": {},
     "output_type": "display_data"
    }
   ],
   "source": [
    "plt.plot(df_accuracy['K'], df_accuracy['Train Accuracy'], label='Train Accuracy')\n",
    "plt.plot(df_accuracy['K'], df_accuracy['Test Accuracy'], label='Test Accuracy')\n",
    "plt.xlabel('K')\n",
    "plt.ylabel('Accuracy')\n",
    "plt.title('Accuracy vs K')\n",
    "plt.legend()\n",
    "plt.show()\n"
   ]
  },
  {
   "cell_type": "code",
   "execution_count": 13,
   "id": "46a384ad",
   "metadata": {},
   "outputs": [
    {
     "data": {
      "text/plain": [
       "<Axes: xlabel='K', ylabel='Train Accuracy'>"
      ]
     },
     "execution_count": 13,
     "metadata": {},
     "output_type": "execute_result"
    },
    {
     "data": {
      "image/png": "[encoded data removed]",
      "text/plain": [
       "<Figure size 640x480 with 1 Axes>"
      ]
     },
     "metadata": {},
     "output_type": "display_data"
    }
   ],
   "source": [
    "sns.lineplot(data = df_accuracy , x = 'K' , y = 'Train Accuracy')\n",
    "sns.lineplot(data = df_accuracy , x = 'K' , y = 'Test Accuracy')"
   ]
  },
  {
   "cell_type": "markdown",
   "id": "4da4ef34",
   "metadata": {},
   "source": [
    "**Observation:- Based on above comparision k_neighbors value should be 3 becz there is best fit for train and test accuracy**"
   ]
  },
  {
   "cell_type": "code",
   "execution_count": null,
   "id": "775c99c5",
   "metadata": {},
   "outputs": [],
   "source": []
  },
  {
   "cell_type": "markdown",
   "id": "2b2031bb",
   "metadata": {},
   "source": [
    "**Comparing Train accuracy Validation Accuracy using K-Fold technique**"
   ]
  },
  {
   "cell_type": "code",
   "execution_count": 14,
   "id": "91a558cc",
   "metadata": {},
   "outputs": [
    {
     "data": {
      "text/html": [
       "<div>\n",
       "<style scoped>\n",
       "    .dataframe tbody tr th:only-of-type {\n",
       "        vertical-align: middle;\n",
       "    }\n",
       "\n",
       "    .dataframe tbody tr th {\n",
       "        vertical-align: top;\n",
       "    }\n",
       "\n",
       "    .dataframe thead th {\n",
       "        text-align: right;\n",
       "    }\n",
       "</style>\n",
       "<table border=\"1\" class=\"dataframe\">\n",
       "  <thead>\n",
       "    <tr style=\"text-align: right;\">\n",
       "      <th></th>\n",
       "      <th>K</th>\n",
       "      <th>Train Accuracy</th>\n",
       "      <th>Validation Accuracy</th>\n",
       "    </tr>\n",
       "  </thead>\n",
       "  <tbody>\n",
       "    <tr>\n",
       "      <th>0</th>\n",
       "      <td>1</td>\n",
       "      <td>1.000000</td>\n",
       "      <td>0.964427</td>\n",
       "    </tr>\n",
       "    <tr>\n",
       "      <th>1</th>\n",
       "      <td>2</td>\n",
       "      <td>0.991071</td>\n",
       "      <td>0.937549</td>\n",
       "    </tr>\n",
       "    <tr>\n",
       "      <th>2</th>\n",
       "      <td>3</td>\n",
       "      <td>0.964286</td>\n",
       "      <td>0.964427</td>\n",
       "    </tr>\n",
       "    <tr>\n",
       "      <th>3</th>\n",
       "      <td>4</td>\n",
       "      <td>0.964286</td>\n",
       "      <td>0.955336</td>\n",
       "    </tr>\n",
       "    <tr>\n",
       "      <th>4</th>\n",
       "      <td>5</td>\n",
       "      <td>0.973214</td>\n",
       "      <td>0.964427</td>\n",
       "    </tr>\n",
       "    <tr>\n",
       "      <th>5</th>\n",
       "      <td>6</td>\n",
       "      <td>0.973214</td>\n",
       "      <td>0.964032</td>\n",
       "    </tr>\n",
       "    <tr>\n",
       "      <th>6</th>\n",
       "      <td>7</td>\n",
       "      <td>0.973214</td>\n",
       "      <td>0.973123</td>\n",
       "    </tr>\n",
       "    <tr>\n",
       "      <th>7</th>\n",
       "      <td>8</td>\n",
       "      <td>0.991071</td>\n",
       "      <td>0.973123</td>\n",
       "    </tr>\n",
       "    <tr>\n",
       "      <th>8</th>\n",
       "      <td>9</td>\n",
       "      <td>0.973214</td>\n",
       "      <td>0.973123</td>\n",
       "    </tr>\n",
       "    <tr>\n",
       "      <th>9</th>\n",
       "      <td>10</td>\n",
       "      <td>0.973214</td>\n",
       "      <td>0.973123</td>\n",
       "    </tr>\n",
       "    <tr>\n",
       "      <th>10</th>\n",
       "      <td>11</td>\n",
       "      <td>0.973214</td>\n",
       "      <td>0.964032</td>\n",
       "    </tr>\n",
       "    <tr>\n",
       "      <th>11</th>\n",
       "      <td>12</td>\n",
       "      <td>0.982143</td>\n",
       "      <td>0.964032</td>\n",
       "    </tr>\n",
       "    <tr>\n",
       "      <th>12</th>\n",
       "      <td>13</td>\n",
       "      <td>0.964286</td>\n",
       "      <td>0.964032</td>\n",
       "    </tr>\n",
       "    <tr>\n",
       "      <th>13</th>\n",
       "      <td>14</td>\n",
       "      <td>0.982143</td>\n",
       "      <td>0.964032</td>\n",
       "    </tr>\n",
       "    <tr>\n",
       "      <th>14</th>\n",
       "      <td>15</td>\n",
       "      <td>0.964286</td>\n",
       "      <td>0.964032</td>\n",
       "    </tr>\n",
       "    <tr>\n",
       "      <th>15</th>\n",
       "      <td>16</td>\n",
       "      <td>0.973214</td>\n",
       "      <td>0.964032</td>\n",
       "    </tr>\n",
       "    <tr>\n",
       "      <th>16</th>\n",
       "      <td>17</td>\n",
       "      <td>0.973214</td>\n",
       "      <td>0.964032</td>\n",
       "    </tr>\n",
       "    <tr>\n",
       "      <th>17</th>\n",
       "      <td>18</td>\n",
       "      <td>0.973214</td>\n",
       "      <td>0.964032</td>\n",
       "    </tr>\n",
       "    <tr>\n",
       "      <th>18</th>\n",
       "      <td>19</td>\n",
       "      <td>0.964286</td>\n",
       "      <td>0.964032</td>\n",
       "    </tr>\n",
       "    <tr>\n",
       "      <th>19</th>\n",
       "      <td>20</td>\n",
       "      <td>0.973214</td>\n",
       "      <td>0.964032</td>\n",
       "    </tr>\n",
       "  </tbody>\n",
       "</table>\n",
       "</div>"
      ],
      "text/plain": [
       "     K  Train Accuracy  Validation Accuracy\n",
       "0    1        1.000000             0.964427\n",
       "1    2        0.991071             0.937549\n",
       "2    3        0.964286             0.964427\n",
       "3    4        0.964286             0.955336\n",
       "4    5        0.973214             0.964427\n",
       "5    6        0.973214             0.964032\n",
       "6    7        0.973214             0.973123\n",
       "7    8        0.991071             0.973123\n",
       "8    9        0.973214             0.973123\n",
       "9   10        0.973214             0.973123\n",
       "10  11        0.973214             0.964032\n",
       "11  12        0.982143             0.964032\n",
       "12  13        0.964286             0.964032\n",
       "13  14        0.982143             0.964032\n",
       "14  15        0.964286             0.964032\n",
       "15  16        0.973214             0.964032\n",
       "16  17        0.973214             0.964032\n",
       "17  18        0.973214             0.964032\n",
       "18  19        0.964286             0.964032\n",
       "19  20        0.973214             0.964032"
      ]
     },
     "execution_count": 14,
     "metadata": {},
     "output_type": "execute_result"
    }
   ],
   "source": [
    "k = []\n",
    "train_acc = []\n",
    "valid_acc = []\n",
    "\n",
    "X, y = load_iris(return_X_y=True, as_frame=True)\n",
    "X_train, X_test, y_train, y_test = train_test_split(X, y, test_size=0.25, random_state=16)\n",
    "\n",
    "for i in range(1, 21):\n",
    "    knn = KNeighborsClassifier(n_neighbors=i, p=1, metric='minkowski')\n",
    "    knn.fit(X_train, y_train)\n",
    "    y_pred = knn.predict(X_train)\n",
    "    train = accuracy_score(y_train, y_pred)\n",
    "    \n",
    "    k_fold = KFold(n_splits=5, shuffle=True, random_state=20)\n",
    "    cross_val_acc = cross_val_score(knn, X_train, y_train, cv=k_fold, scoring='accuracy')\n",
    "    \n",
    "    k.append(i)\n",
    "    train_acc.append(train)\n",
    "    valid_acc.append(cross_val_acc.mean())\n",
    "    \n",
    "df_val_trai_acc = pd.DataFrame({\"K\": k, \"Train Accuracy\": train_acc, \"Validation Accuracy\": valid_acc})\n",
    "df_val_trai_acc"
   ]
  },
  {
   "cell_type": "markdown",
   "id": "fa8797c9",
   "metadata": {},
   "source": [
    "**Comparing Train and Validation Accuracy using plots**"
   ]
  },
  {
   "cell_type": "code",
   "execution_count": 15,
   "id": "425caac1",
   "metadata": {},
   "outputs": [
    {
     "data": {
      "image/png": "[encoded data removed]",
      "text/plain": [
       "<Figure size 640x480 with 1 Axes>"
      ]
     },
     "metadata": {},
     "output_type": "display_data"
    }
   ],
   "source": [
    "plt.plot(df_val_trai_acc['K'], df_val_trai_acc['Train Accuracy'], label='Train Accuracy')\n",
    "plt.plot(df_val_trai_acc['K'], df_val_trai_acc['Validation Accuracy'], label='Validation Accuracy')\n",
    "plt.xlabel('K')\n",
    "plt.ylabel('Accuracy')\n",
    "plt.title('Accuracy vs K')\n",
    "plt.legend()\n",
    "plt.show()\n"
   ]
  },
  {
   "cell_type": "code",
   "execution_count": 16,
   "id": "7489114c",
   "metadata": {},
   "outputs": [
    {
     "data": {
      "text/plain": [
       "<Axes: xlabel='K', ylabel='Train Accuracy'>"
      ]
     },
     "execution_count": 16,
     "metadata": {},
     "output_type": "execute_result"
    },
    {
     "data": {
      "image/png": "[encoded data removed]",
      "text/plain": [
       "<Figure size 640x480 with 1 Axes>"
      ]
     },
     "metadata": {},
     "output_type": "display_data"
    }
   ],
   "source": [
    "sns.lineplot(data = df_val_trai_acc , x = 'K' , y = \"Train Accuracy\")\n",
    "sns.lineplot(data = df_val_trai_acc , x = 'K' , y = \"Validation Accuracy\")"
   ]
  },
  {
   "cell_type": "markdown",
   "id": "5c7d0327",
   "metadata": {},
   "source": [
    "**Observation:- Based on above comparision k_neighbors value should be 3 becz there is best fit for train and validation accuracy**"
   ]
  },
  {
   "cell_type": "markdown",
   "id": "909a7767",
   "metadata": {},
   "source": [
    "**Final ML Model**"
   ]
  },
  {
   "cell_type": "code",
   "execution_count": 23,
   "id": "1086e7ef",
   "metadata": {},
   "outputs": [
    {
     "data": {
      "text/plain": [
       "0.9473684210526315"
      ]
     },
     "execution_count": 23,
     "metadata": {},
     "output_type": "execute_result"
    }
   ],
   "source": [
    "knn = KNeighborsClassifier(n_neighbors=3, p=1,metric='minkowski')\n",
    "knn.fit(X_train , y_train)\n",
    "    \n",
    "y_predict = knn.predict(X_test)\n",
    "accuracy_score(y_test , y_predict)"
   ]
  },
  {
   "cell_type": "code",
   "execution_count": null,
   "id": "08025340",
   "metadata": {},
   "outputs": [],
   "source": []
  }
 ],
 "metadata": {
  "kernelspec": {
   "display_name": "Python 3 (ipykernel)",
   "language": "python",
   "name": "python3"
  },
  "language_info": {
   "codemirror_mode": {
    "name": "ipython",
    "version": 3
   },
   "file_extension": ".py",
   "mimetype": "text/x-python",
   "name": "python",
   "nbconvert_exporter": "python",
   "pygments_lexer": "ipython3",
   "version": "3.11.4"
  }
 },
 "nbformat": 4,
 "nbformat_minor": 5
}
